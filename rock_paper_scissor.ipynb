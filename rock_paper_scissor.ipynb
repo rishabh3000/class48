{
 "cells": [
  {
   "cell_type": "code",
   "execution_count": 3,
   "metadata": {},
   "outputs": [
    {
     "name": "stdout",
     "output_type": "stream",
     "text": [
      "0.732556577076894\n",
      "8.790678924922728\n"
     ]
    }
   ],
   "source": [
    "#use of random library\n",
    "import random\n",
    "\n",
    "random_float = random.random()\n",
    "print(random_float)\n",
    "\n",
    "print(random_float * 12)\n"
   ]
  },
  {
   "cell_type": "code",
   "execution_count": 1,
   "metadata": {},
   "outputs": [],
   "source": [
    "#rock paper scissor\n",
    "\n",
    "import random\n",
    "\n",
    "def rock():\n",
    "    print(\"rock\")\n",
    "    \n",
    "def paper():\n",
    "    print(\"paper\")\n",
    "    \n",
    "def scissor():\n",
    "    print(\"scissor\")\n",
    "    \n",
    "    \n",
    "def rock_paper_scissor(user_input):\n",
    "    comp_gen = random.randint(1, 3)\n",
    "    if (user_input == comp_gen):\n",
    "        \n",
    "        print(\"Match Tie\")\n",
    "\n",
    "    elif (user_input == 1) and (comp_gen == 2):\n",
    "        print(\"Paper Beat Rock. You Are Losser\")\n",
    "        paper()\n",
    "\n",
    "    elif (user_input == 2) and (comp_gen == 3):\n",
    "        print(\"Scissor Beat Paper. You Are Losser\")\n",
    "        scissor()\n",
    "\n",
    "    elif (user_input == 3) and (comp_gen == 2):\n",
    "        print(\"Scissor Beat paper. You Are Winner\")\n",
    "        scissor()\n",
    "\n",
    "    elif (user_input == 2) and (comp_gen == 1):\n",
    "        print(\"Paper Beat Rock. You Are Winner\")\n",
    "        paper()\n",
    "\n",
    "    elif (user_input == 1) and (comp_gen == 3):\n",
    "        print(\"Rock Beat Scissor. You Are Losser\")\n",
    "        scissor()\n",
    "\n",
    "    elif (user_input == 3) and (comp_gen == 1):\n",
    "        (\"Rock Beat Scissor. You Are Winner\")\n",
    "        scissor()\n",
    "        \n",
    "    \n",
    "\n",
    "\n",
    "\n"
   ]
  },
  {
   "cell_type": "code",
   "execution_count": 6,
   "metadata": {},
   "outputs": [
    {
     "name": "stdout",
     "output_type": "stream",
     "text": [
      "enter your number rock/paper/scissor: 3\n",
      "\n",
      "Match Tie\n",
      "None\n"
     ]
    }
   ],
   "source": [
    "user_input= int(input(\"enter your number rock/paper/scissor: \"))\n",
    "print()\n",
    "print(rock_paper_scissor(user_input))"
   ]
  },
  {
   "cell_type": "code",
   "execution_count": null,
   "metadata": {},
   "outputs": [],
   "source": []
  }
 ],
 "metadata": {
  "kernelspec": {
   "display_name": "Python 3",
   "language": "python",
   "name": "python3"
  },
  "language_info": {
   "codemirror_mode": {
    "name": "ipython",
    "version": 3
   },
   "file_extension": ".py",
   "mimetype": "text/x-python",
   "name": "python",
   "nbconvert_exporter": "python",
   "pygments_lexer": "ipython3",
   "version": "3.8.3"
  }
 },
 "nbformat": 4,
 "nbformat_minor": 4
}
